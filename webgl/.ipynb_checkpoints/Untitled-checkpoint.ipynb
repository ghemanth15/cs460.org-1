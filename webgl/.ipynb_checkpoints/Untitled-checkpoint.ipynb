{
 "cells": [
  {
   "cell_type": "code",
   "execution_count": 56,
   "metadata": {},
   "outputs": [],
   "source": [
    "import sys,os,pydub\n",
    "from pydub.playback import play"
   ]
  },
  {
   "cell_type": "code",
   "execution_count": 17,
   "metadata": {},
   "outputs": [],
   "source": [
    "sorted_dirs = []\n",
    "for d in os.listdir('.'):\n",
    "    if not d.startswith('lecture'):\n",
    "        continue\n",
    "    \n",
    "    number=d.replace('lecture','')\n",
    "    sorted_dirs.append(int(number))\n",
    "sorted_dirs.sort()   \n",
    "\n",
    "lectures = []\n",
    "for l in sorted_dirs:\n",
    "    lectures.append('lecture'+str(l))"
   ]
  },
  {
   "cell_type": "code",
   "execution_count": 61,
   "metadata": {},
   "outputs": [
    {
     "name": "stdout",
     "output_type": "stream",
     "text": [
      "0 600\n",
      "1 1200\n",
      "2 1100\n",
      "3 1800\n",
      "4 1200\n",
      "5 800\n",
      "6 1100\n",
      "7 600\n",
      "8 800\n",
      "9 1000\n",
      "10 1700\n",
      "11 900\n",
      "12 800\n",
      "13 800\n",
      "14 1000\n",
      "15 1400\n",
      "16 1400\n",
      "17 900\n",
      "18 900\n",
      "19 600\n",
      "20 800\n",
      "21 800\n",
      "22 1100\n",
      "23 700\n",
      "24 900\n",
      "25 800\n",
      "26 1000\n",
      "27 600\n",
      "28 1100\n",
      "29 600\n",
      "30 1100\n",
      "31 700\n",
      "32 1200\n",
      "33 800\n",
      "34 900\n",
      "35 1100\n"
     ]
    }
   ],
   "source": [
    "todays = []\n",
    "out = pydub.AudioSegment.empty()\n",
    "for i,l in enumerate(lectures):\n",
    "    today = pydub.AudioSegment.from_mp3(l+'/'+l+'.mp3')\n",
    "    trim_ms = 500\n",
    "    chunk_size = 100\n",
    "    while today[trim_ms:trim_ms+chunk_size].dBFS > -30:\n",
    "#         print(today[trim_ms:trim_ms+chunk_size].dBFS)\n",
    "        trim_ms += chunk_size\n",
    "    \n",
    "    play(today[:trim_ms+chunk_size])\n",
    "    out += today[:trim_ms+chunk_size]\n",
    "    todays.append(today[:trim_ms+chunk_size])\n",
    "    print(i,trim_ms+chunk_size)"
   ]
  },
  {
   "cell_type": "code",
   "execution_count": 63,
   "metadata": {},
   "outputs": [
    {
     "data": {
      "text/plain": [
       "<_io.BufferedRandom name='today.mp3'>"
      ]
     },
     "execution_count": 63,
     "metadata": {},
     "output_type": "execute_result"
    }
   ],
   "source": [
    "out.export(\"today.mp3\",format=\"mp3\")"
   ]
  },
  {
   "cell_type": "code",
   "execution_count": 33,
   "metadata": {},
   "outputs": [
    {
     "name": "stdout",
     "output_type": "stream",
     "text": [
      "-8.7827449396572\n",
      "-9.925010678088597\n",
      "-9.891833060828038\n",
      "-12.44153209427386\n",
      "-18.350709275143792\n",
      "-29.943312530663736\n",
      "1200\n"
     ]
    }
   ],
   "source": [
    "trim_ms = 500\n",
    "chunk_size = 100\n",
    "\n",
    "while todays[4][trim_ms:trim_ms+chunk_size].dBFS > -30:\n",
    "    print(todays[4][trim_ms:trim_ms+chunk_size].dBFS)\n",
    "    trim_ms += chunk_size\n",
    "    \n",
    "print(trim_ms+chunk_size)"
   ]
  },
  {
   "cell_type": "code",
   "execution_count": null,
   "metadata": {},
   "outputs": [],
   "source": []
  }
 ],
 "metadata": {
  "kernelspec": {
   "display_name": "Python 3",
   "language": "python",
   "name": "python3"
  },
  "language_info": {
   "codemirror_mode": {
    "name": "ipython",
    "version": 3
   },
   "file_extension": ".py",
   "mimetype": "text/x-python",
   "name": "python",
   "nbconvert_exporter": "python",
   "pygments_lexer": "ipython3",
   "version": "3.6.9"
  }
 },
 "nbformat": 4,
 "nbformat_minor": 2
}
