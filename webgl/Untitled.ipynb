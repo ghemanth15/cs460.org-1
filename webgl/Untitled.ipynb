{
 "cells": [
  {
   "cell_type": "code",
   "execution_count": 6,
   "metadata": {},
   "outputs": [],
   "source": [
    "import sys,os,pydub\n",
    "from pydub.playback import play\n",
    "import numpy as np"
   ]
  },
  {
   "cell_type": "code",
   "execution_count": 3,
   "metadata": {},
   "outputs": [],
   "source": [
    "sorted_dirs = []\n",
    "for d in os.listdir('.'):\n",
    "    if not d.startswith('lecture'):\n",
    "        continue\n",
    "    \n",
    "    number=d.replace('lecture','')\n",
    "    sorted_dirs.append(int(number))\n",
    "sorted_dirs.sort()   \n",
    "\n",
    "lectures = []\n",
    "for l in sorted_dirs[:-1]:\n",
    "    lectures.append('lecture'+str(l))"
   ]
  },
  {
   "cell_type": "code",
   "execution_count": 4,
   "metadata": {},
   "outputs": [
    {
     "data": {
      "text/plain": [
       "['lecture1',\n",
       " 'lecture2',\n",
       " 'lecture3',\n",
       " 'lecture4',\n",
       " 'lecture5',\n",
       " 'lecture6',\n",
       " 'lecture7',\n",
       " 'lecture8',\n",
       " 'lecture9',\n",
       " 'lecture10',\n",
       " 'lecture11',\n",
       " 'lecture13',\n",
       " 'lecture14',\n",
       " 'lecture15',\n",
       " 'lecture16',\n",
       " 'lecture17',\n",
       " 'lecture18',\n",
       " 'lecture19',\n",
       " 'lecture20',\n",
       " 'lecture21',\n",
       " 'lecture22',\n",
       " 'lecture23',\n",
       " 'lecture24',\n",
       " 'lecture25',\n",
       " 'lecture26',\n",
       " 'lecture27',\n",
       " 'lecture28',\n",
       " 'lecture29',\n",
       " 'lecture30',\n",
       " 'lecture31',\n",
       " 'lecture32',\n",
       " 'lecture33',\n",
       " 'lecture34',\n",
       " 'lecture36',\n",
       " 'lecture37',\n",
       " 'lecture38']"
      ]
     },
     "execution_count": 4,
     "metadata": {},
     "output_type": "execute_result"
    }
   ],
   "source": [
    "lectures"
   ]
  },
  {
   "cell_type": "code",
   "execution_count": 12,
   "metadata": {},
   "outputs": [],
   "source": [
    "timestamps = [0]\n",
    "out = pydub.AudioSegment.empty()\n",
    "for i,l in enumerate(lectures):\n",
    "    today = pydub.AudioSegment.from_mp3(l+'/'+l+'.mp3')\n",
    "    trim_ms = 500\n",
    "    chunk_size = 100\n",
    "    while today[trim_ms:trim_ms+chunk_size].dBFS > -30:\n",
    "#         print(today[trim_ms:trim_ms+chunk_size].dBFS)\n",
    "        trim_ms += chunk_size\n",
    "    \n",
    "    sect = max(1000,trim_ms+chunk_size)\n",
    "    \n",
    "#     play(today[:sect])\n",
    "    out += today[:sect]\n",
    "    timestamps.append(timestamps[-1]+sect)\n",
    "#     print(trim_ms+chunk_size)"
   ]
  },
  {
   "cell_type": "code",
   "execution_count": 13,
   "metadata": {},
   "outputs": [
    {
     "data": {
      "text/plain": [
       "[0,\n",
       " 1000,\n",
       " 2200,\n",
       " 3300,\n",
       " 5100,\n",
       " 6300,\n",
       " 7300,\n",
       " 8400,\n",
       " 9400,\n",
       " 10400,\n",
       " 11400,\n",
       " 13100,\n",
       " 14100,\n",
       " 15100,\n",
       " 16100,\n",
       " 17100,\n",
       " 18500,\n",
       " 19900,\n",
       " 20900,\n",
       " 21900,\n",
       " 22900,\n",
       " 23900,\n",
       " 24900,\n",
       " 26000,\n",
       " 27000,\n",
       " 28000,\n",
       " 29000,\n",
       " 30000,\n",
       " 31000,\n",
       " 32100,\n",
       " 33100,\n",
       " 34200,\n",
       " 35200,\n",
       " 36400,\n",
       " 37400,\n",
       " 38400,\n",
       " 39500]"
      ]
     },
     "execution_count": 13,
     "metadata": {},
     "output_type": "execute_result"
    }
   ],
   "source": [
    "timestamps"
   ]
  },
  {
   "cell_type": "code",
   "execution_count": 15,
   "metadata": {},
   "outputs": [
    {
     "data": {
      "text/plain": [
       "<_io.BufferedRandom name='today.mp3'>"
      ]
     },
     "execution_count": 15,
     "metadata": {},
     "output_type": "execute_result"
    }
   ],
   "source": [
    "out.export(\"today.mp3\",format=\"mp3\")"
   ]
  },
  {
   "cell_type": "code",
   "execution_count": 33,
   "metadata": {},
   "outputs": [
    {
     "name": "stdout",
     "output_type": "stream",
     "text": [
      "-8.7827449396572\n",
      "-9.925010678088597\n",
      "-9.891833060828038\n",
      "-12.44153209427386\n",
      "-18.350709275143792\n",
      "-29.943312530663736\n",
      "1200\n"
     ]
    }
   ],
   "source": [
    "trim_ms = 500\n",
    "chunk_size = 100\n",
    "\n",
    "while todays[4][trim_ms:trim_ms+chunk_size].dBFS > -30:\n",
    "    print(todays[4][trim_ms:trim_ms+chunk_size].dBFS)\n",
    "    trim_ms += chunk_size\n",
    "    \n",
    "print(trim_ms+chunk_size)"
   ]
  },
  {
   "cell_type": "code",
   "execution_count": null,
   "metadata": {},
   "outputs": [],
   "source": []
  }
 ],
 "metadata": {
  "kernelspec": {
   "display_name": "Python 3",
   "language": "python",
   "name": "python3"
  },
  "language_info": {
   "codemirror_mode": {
    "name": "ipython",
    "version": 3
   },
   "file_extension": ".py",
   "mimetype": "text/x-python",
   "name": "python",
   "nbconvert_exporter": "python",
   "pygments_lexer": "ipython3",
   "version": "3.6.9"
  }
 },
 "nbformat": 4,
 "nbformat_minor": 2
}
